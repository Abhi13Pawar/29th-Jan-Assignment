{
 "cells": [
  {
   "cell_type": "markdown",
   "id": "7442736e-bb47-4a8f-af78-3709d791f4ed",
   "metadata": {},
   "source": [
    "1) Guido van Rossum developed python programming language"
   ]
  },
  {
   "cell_type": "markdown",
   "id": "02aa8236-42f3-4cae-b600-a708209294ec",
   "metadata": {},
   "source": [
    "2) python supported Object-oriented programming and structured programming"
   ]
  },
  {
   "cell_type": "markdown",
   "id": "6eff93a3-2fa1-43b2-b994-4ba4d4eaab53",
   "metadata": {},
   "source": [
    "3) Yes, Python is a case-sensitive language"
   ]
  },
  {
   "cell_type": "markdown",
   "id": "7fe94fe3-dc38-4058-bb7d-01f526b92cb4",
   "metadata": {},
   "source": [
    "4) .py is the correct extension for python file"
   ]
  },
  {
   "cell_type": "markdown",
   "id": "452ecd90-3eb2-4f5f-aa3b-346be3ec16ae",
   "metadata": {},
   "source": [
    "5) Yes, Python is an interpreted language"
   ]
  },
  {
   "cell_type": "markdown",
   "id": "98f5819a-14c7-4594-8937-bef10d34c0c7",
   "metadata": {},
   "source": [
    "6) following blocks are used to define python language- \n",
    "a module, a function body, and a class definition"
   ]
  },
  {
   "cell_type": "markdown",
   "id": "c4604c2f-c9e3-4a0e-9fc8-ba82e0e1ec75",
   "metadata": {},
   "source": [
    "7) We can write a single-line comment by adding a single # character before any statement or line of code"
   ]
  },
  {
   "cell_type": "markdown",
   "id": "32454fa4-2e90-49de-84fd-c0b3cf03bc65",
   "metadata": {},
   "source": [
    "8) The function sys. version can help us to find the version of python that we are currently working on"
   ]
  },
  {
   "cell_type": "markdown",
   "id": "a26e806c-ce23-46e6-a466-cf6719ea6636",
   "metadata": {},
   "source": [
    "9) Python supports to make anonymous functions which are not bound to a name(@ runtime). It uses a construct called \"lambda\" ."
   ]
  },
  {
   "cell_type": "markdown",
   "id": "e93fab3f-3995-4733-ab9f-c59fbfb858d2",
   "metadata": {},
   "source": [
    "10) pip stand for  “Preferred Installer Program”"
   ]
  },
  {
   "cell_type": "markdown",
   "id": "01b6d829-b52f-414d-8b2c-08b0fffc2991",
   "metadata": {},
   "source": [
    "11) Python Built in Functions are\n",
    "bin()\n",
    "bool()\n",
    "bytearray()\n"
   ]
  },
  {
   "cell_type": "markdown",
   "id": "3b391ecf-c5b5-4a81-8fa1-b0bf037441eb",
   "metadata": {},
   "source": [
    "12) An identifier can have a maximum length of 79 characters in Python"
   ]
  },
  {
   "cell_type": "markdown",
   "id": "eeb1b89b-3326-4685-8302-f2952c61faba",
   "metadata": {},
   "source": [
    "13) Top Reasons to Learn Python\n",
    "Data science.\n",
    "Scientific and mathematical computing.\n",
    "Web development.\n",
    "Finance and trading.\n",
    "System automation and administration.\n",
    "Computer graphics.\n",
    "Basic game development.\n",
    "Security and penetration testing."
   ]
  },
  {
   "cell_type": "markdown",
   "id": "80498123-9d37-42fa-993d-e5d00a191a76",
   "metadata": {},
   "source": [
    "14) Memory management in Python involves a private heap containing all Python objects and data structures. The management of this private heap is ensured internally by the Python memory manager."
   ]
  },
  {
   "cell_type": "markdown",
   "id": "e99855f7-ec81-4c4a-bfa7-6ab03b1a1e5d",
   "metadata": {},
   "source": [
    "15) The complete path of python.exe can be added by:\n",
    "Right-clicking This PC and going to Properties.\n",
    "Clicking on the Advanced system settings in the menu on the left.\n",
    "Clicking on the Environment Variables button o​n the bottom right.\n",
    "In the System variables section, selecting the Path variable and clicking on Edit"
   ]
  },
  {
   "cell_type": "markdown",
   "id": "63eae4e2-0546-434d-b70c-40e09b440b77",
   "metadata": {},
   "source": [
    "16) "
   ]
  }
 ],
 "metadata": {
  "kernelspec": {
   "display_name": "Python 3 (ipykernel)",
   "language": "python",
   "name": "python3"
  },
  "language_info": {
   "codemirror_mode": {
    "name": "ipython",
    "version": 3
   },
   "file_extension": ".py",
   "mimetype": "text/x-python",
   "name": "python",
   "nbconvert_exporter": "python",
   "pygments_lexer": "ipython3",
   "version": "3.10.8"
  }
 },
 "nbformat": 4,
 "nbformat_minor": 5
}
